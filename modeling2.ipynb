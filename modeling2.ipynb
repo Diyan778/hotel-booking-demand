{
 "cells": [
  {
   "cell_type": "code",
   "execution_count": null,
   "metadata": {},
   "outputs": [],
   "source": [
    "import numpy as np\n",
    "import pandas as pd\n",
    "from sklearn.model_selection import cross_val_score\n",
    "import matplotlib.pyplot as plt\n",
    "import plotly.express as px\n",
    "import seaborn as sns\n",
    "from sklearn import metrics\n",
    "from sklearn.model_selection import train_test_split\n",
    "from sklearn.naive_bayes import GaussianNB\n",
    "from sklearn.naive_bayes import MultinomialNB\n",
    "from sklearn.neighbors import KNeighborsClassifier\n",
    "from sklearn.preprocessing import StandardScaler\n",
    "from sklearn.model_selection import GridSearchCV\n",
    "from sklearn.model_selection import KFold\n",
    "from sklearn.model_selection import StratifiedKFold\n",
    "from IPython.display import Image\n",
    "# from jupyterthemes import jtplot\n",
    "from matplotlib.colors import ListedColormap\n",
    "import mglearn\n",
    "from sklearn.model_selection import train_test_split\n",
    "from sklearn import tree\n",
    "from sklearn.metrics import classification_report\n",
    "from sklearn.model_selection import ShuffleSplit\n",
    "from sklearn.model_selection import GroupKFold\n",
    "from sklearn.model_selection import GroupShuffleSplit\n",
    "from sklearn.model_selection import StratifiedShuffleSplit\n",
    "from sklearn.naive_bayes import GaussianNB\n",
    "from sklearn.ensemble import RandomForestClassifier\n",
    "from sklearn.metrics import roc_curve, auc, roc_auc_score\n",
    "from scipy import interp\n",
    "from math import sqrt\n",
    "from sklearn.linear_model import LogisticRegression\n",
    "from sklearn.tree import DecisionTreeClassifier\n",
    "from sklearn.model_selection import RandomizedSearchCV\n",
    "from sklearn.neural_network import MLPClassifier"
   ]
  },
  {
   "cell_type": "code",
   "execution_count": null,
   "metadata": {},
   "outputs": [],
   "source": [
    "data = pd.read_csv('cleaned_data1.csv')\n",
    "data.columns"
   ]
  },
  {
   "cell_type": "code",
   "execution_count": null,
   "metadata": {},
   "outputs": [],
   "source": [
    "dropvar = ['assigned_room_type.P', 'reserved_room_type.P']\n",
    "data = data.drop(dropvar, axis = 1)\n",
    "data"
   ]
  },
  {
   "cell_type": "markdown",
   "metadata": {},
   "source": [
    "## Ridge Logisitic Regression"
   ]
  },
  {
   "cell_type": "code",
   "execution_count": null,
   "metadata": {},
   "outputs": [],
   "source": [
    "dropvar = ['arrival_date_month.December','arrival_date_month.February', 'Market.Direct', 'Market.Groups', \n",
    "           'Distribution.TA_TO', 'arrival_date_month.October', 'arrival_date_month.April', 'arrival_date_month.November', 'Meal.BB', \n",
    "           'assigned_room_type.L']\n",
    "data_ridge = data.drop(dropvar, axis = 1)\n",
    "data_ridge"
   ]
  },
  {
   "cell_type": "code",
   "execution_count": null,
   "metadata": {},
   "outputs": [],
   "source": [
    "y = data_ridge[['is_canceled']]\n",
    "x = data_ridge.drop(['is_canceled'], axis = 1)\n",
    "x"
   ]
  },
  {
   "cell_type": "code",
   "execution_count": null,
   "metadata": {},
   "outputs": [],
   "source": [
    "#logisitic regression ridge\n",
    "log_ridge = LogisticRegression()\n",
    "\n",
    "# Create regularization penalty space\n",
    "penalty = ['l1', 'l2']\n",
    "\n",
    "# Create regularization hyperparameter space\n",
    "C = [0.001,.009,0.01,.09,1,2,3,4,5,8,9,10,25]\n",
    "\n",
    "# Create regularization hyperparameter space\n",
    "# max_iter = range(100,1000,100)\n",
    "\n",
    "# Create hyperparameter options\n",
    "hyperparameters = dict(C=C, penalty=penalty)"
   ]
  },
  {
   "cell_type": "code",
   "execution_count": null,
   "metadata": {},
   "outputs": [],
   "source": [
    "# Create grid search using 5-fold cross validation\n",
    "log_ridge = GridSearchCV(log_ridge, hyperparameters, cv=10, verbose=0, scoring = 'f1')\n",
    "# Fit grid search\n",
    "best_model = log_ridge.fit(x, y)"
   ]
  },
  {
   "cell_type": "code",
   "execution_count": null,
   "metadata": {},
   "outputs": [],
   "source": [
    "# View best hyperparameters\n",
    "print('Best Penalty:', best_model.best_estimator_.get_params()['penalty'])\n",
    "print('Best C:', best_model.best_estimator_.get_params()['C'])\n",
    "# print('Best max_iter:', best_model.best_estimator_.get_params()['max_iter'])"
   ]
  },
  {
   "cell_type": "code",
   "execution_count": 8,
   "metadata": {},
   "outputs": [
    {
     "name": "stderr",
     "output_type": "stream",
     "text": [
      "/anaconda3/lib/python3.7/site-packages/sklearn/utils/validation.py:760: DataConversionWarning: A column-vector y was passed when a 1d array was expected. Please change the shape of y to (n_samples, ), for example using ravel().\n",
      "  y = column_or_1d(y, warn=True)\n",
      "/anaconda3/lib/python3.7/site-packages/sklearn/utils/validation.py:760: DataConversionWarning: A column-vector y was passed when a 1d array was expected. Please change the shape of y to (n_samples, ), for example using ravel().\n",
      "  y = column_or_1d(y, warn=True)\n",
      "/anaconda3/lib/python3.7/site-packages/sklearn/utils/validation.py:760: DataConversionWarning: A column-vector y was passed when a 1d array was expected. Please change the shape of y to (n_samples, ), for example using ravel().\n",
      "  y = column_or_1d(y, warn=True)\n",
      "/anaconda3/lib/python3.7/site-packages/sklearn/utils/validation.py:760: DataConversionWarning: A column-vector y was passed when a 1d array was expected. Please change the shape of y to (n_samples, ), for example using ravel().\n",
      "  y = column_or_1d(y, warn=True)\n",
      "/anaconda3/lib/python3.7/site-packages/sklearn/utils/validation.py:760: DataConversionWarning: A column-vector y was passed when a 1d array was expected. Please change the shape of y to (n_samples, ), for example using ravel().\n",
      "  y = column_or_1d(y, warn=True)\n",
      "/anaconda3/lib/python3.7/site-packages/sklearn/utils/validation.py:760: DataConversionWarning: A column-vector y was passed when a 1d array was expected. Please change the shape of y to (n_samples, ), for example using ravel().\n",
      "  y = column_or_1d(y, warn=True)\n",
      "/anaconda3/lib/python3.7/site-packages/sklearn/utils/validation.py:760: DataConversionWarning: A column-vector y was passed when a 1d array was expected. Please change the shape of y to (n_samples, ), for example using ravel().\n",
      "  y = column_or_1d(y, warn=True)\n",
      "/anaconda3/lib/python3.7/site-packages/sklearn/utils/validation.py:760: DataConversionWarning: A column-vector y was passed when a 1d array was expected. Please change the shape of y to (n_samples, ), for example using ravel().\n",
      "  y = column_or_1d(y, warn=True)\n",
      "/anaconda3/lib/python3.7/site-packages/sklearn/utils/validation.py:760: DataConversionWarning: A column-vector y was passed when a 1d array was expected. Please change the shape of y to (n_samples, ), for example using ravel().\n",
      "  y = column_or_1d(y, warn=True)\n",
      "/anaconda3/lib/python3.7/site-packages/sklearn/utils/validation.py:760: DataConversionWarning: A column-vector y was passed when a 1d array was expected. Please change the shape of y to (n_samples, ), for example using ravel().\n",
      "  y = column_or_1d(y, warn=True)\n"
     ]
    },
    {
     "name": "stdout",
     "output_type": "stream",
     "text": [
      "kappa 0.57336467417301 f1 0.7077922191724328 rmse 0.4340270028247348\n"
     ]
    }
   ],
   "source": [
    "# , max_iter = 1000\n",
    "log_best_par = LogisticRegression(penalty = 'l2', C = 10, max_iter = 1000)\n",
    "kappa1 = []\n",
    "rmse1 = []\n",
    "f1_1 = []\n",
    "\n",
    "kf = StratifiedKFold(n_splits=10, random_state=0, shuffle=True)\n",
    "for train_index, test_index in kf.split(x,y):\n",
    "    x_train, x_test = x[x.index.isin(train_index)], x[x.index.isin(test_index)]\n",
    "    y_train, y_test = y[y.index.isin(train_index)], y[y.index.isin(test_index)]\n",
    "    log_best_par.fit(x_train, y_train)\n",
    "    log_best_par_pred = log_best_par.predict(x_test)\n",
    "    kappa = metrics.cohen_kappa_score(y_test, log_best_par_pred)\n",
    "    kappa1.append(kappa)\n",
    "    f1 = metrics.f1_score(y_test, log_best_par_pred)\n",
    "    f1_1.append(f1)\n",
    "    rmse = sqrt(metrics.mean_squared_error(y_test, log_best_par_pred))\n",
    "    rmse1.append(rmse)\n",
    "print('kappa',np.mean(kappa1), 'f1', np.mean(f1_1), 'rmse', np.mean(rmse1))"
   ]
  },
  {
   "cell_type": "markdown",
   "metadata": {},
   "source": [
    "## Decision Tree"
   ]
  },
  {
   "cell_type": "code",
   "execution_count": null,
   "metadata": {},
   "outputs": [],
   "source": [
    "param_grid = {'max_depth': np.arange(3, 10),\n",
    "             'min_samples_leaf': np.arange(2,11),\n",
    "             'min_samples_split': range(2,4,1)}"
   ]
  },
  {
   "cell_type": "code",
   "execution_count": null,
   "metadata": {},
   "outputs": [],
   "source": [
    "tree = DecisionTreeClassifier()\n",
    "\n",
    "tree = GridSearchCV(tree, param_grid, cv=10, scoring = 'f1')\n",
    "tree.fit(x,y)"
   ]
  },
  {
   "cell_type": "code",
   "execution_count": null,
   "metadata": {},
   "outputs": [],
   "source": [
    "print('Best max_depth:', tree.best_estimator_.get_params()['max_depth'])\n",
    "print('Best min_samples_leaf:', tree.best_estimator_.get_params()['min_samples_leaf'])\n",
    "print('Best min_samples_split:', tree.best_estimator_.get_params()['min_samples_split'])"
   ]
  },
  {
   "cell_type": "code",
   "execution_count": 9,
   "metadata": {},
   "outputs": [
    {
     "name": "stdout",
     "output_type": "stream",
     "text": [
      "kappa 0.5659423783010221 f1 0.7024588946713007 rmse 0.43767419838190824\n"
     ]
    }
   ],
   "source": [
    "tree_best_par = DecisionTreeClassifier(max_depth = 6, min_samples_leaf = 10, min_samples_split = 2)\n",
    "kappa2 = []\n",
    "rmse2 = []\n",
    "f1_2 = []\n",
    "\n",
    "kf = StratifiedKFold(n_splits=10, random_state=0, shuffle=True)\n",
    "for train_index, test_index in kf.split(x,y):\n",
    "    x_train, x_test = x[x.index.isin(train_index)], x[x.index.isin(test_index)]\n",
    "    y_train, y_test = y[y.index.isin(train_index)], y[y.index.isin(test_index)]\n",
    "    tree_best_par.fit(x_train, y_train)\n",
    "    tree_best_par_pred = tree_best_par.predict(x_test)\n",
    "    kappa = metrics.cohen_kappa_score(y_test, tree_best_par_pred)\n",
    "    kappa2.append(kappa)\n",
    "    f1 = metrics.f1_score(y_test, tree_best_par_pred)\n",
    "    f1_2.append(f1)\n",
    "    rmse = sqrt(metrics.mean_squared_error(y_test, tree_best_par_pred))\n",
    "    rmse2.append(rmse)\n",
    "print('kappa',np.mean(kappa2), 'f1', np.mean(f1_2), 'rmse', np.mean(rmse2))"
   ]
  },
  {
   "cell_type": "markdown",
   "metadata": {},
   "source": [
    "## Random Forest"
   ]
  },
  {
   "cell_type": "code",
   "execution_count": 10,
   "metadata": {},
   "outputs": [
    {
     "name": "stderr",
     "output_type": "stream",
     "text": [
      "/anaconda3/lib/python3.7/site-packages/ipykernel_launcher.py:10: DataConversionWarning: A column-vector y was passed when a 1d array was expected. Please change the shape of y to (n_samples,), for example using ravel().\n",
      "  # Remove the CWD from sys.path while we load stuff.\n",
      "/anaconda3/lib/python3.7/site-packages/ipykernel_launcher.py:10: DataConversionWarning: A column-vector y was passed when a 1d array was expected. Please change the shape of y to (n_samples,), for example using ravel().\n",
      "  # Remove the CWD from sys.path while we load stuff.\n",
      "/anaconda3/lib/python3.7/site-packages/ipykernel_launcher.py:10: DataConversionWarning: A column-vector y was passed when a 1d array was expected. Please change the shape of y to (n_samples,), for example using ravel().\n",
      "  # Remove the CWD from sys.path while we load stuff.\n",
      "/anaconda3/lib/python3.7/site-packages/ipykernel_launcher.py:10: DataConversionWarning: A column-vector y was passed when a 1d array was expected. Please change the shape of y to (n_samples,), for example using ravel().\n",
      "  # Remove the CWD from sys.path while we load stuff.\n",
      "/anaconda3/lib/python3.7/site-packages/ipykernel_launcher.py:10: DataConversionWarning: A column-vector y was passed when a 1d array was expected. Please change the shape of y to (n_samples,), for example using ravel().\n",
      "  # Remove the CWD from sys.path while we load stuff.\n"
     ]
    },
    {
     "name": "stdout",
     "output_type": "stream",
     "text": [
      "kappa 0.6994146419888138 f1 0.804806555953955 rmse 0.37051652383827616\n"
     ]
    }
   ],
   "source": [
    "rf_best_par = RandomForestClassifier()\n",
    "kappa3 = []\n",
    "rmse3 = []\n",
    "f1_3 = []\n",
    "\n",
    "kf = StratifiedKFold(n_splits=5, random_state=0, shuffle=True)\n",
    "for train_index, test_index in kf.split(x,y):\n",
    "    x_train, x_test = x[x.index.isin(train_index)], x[x.index.isin(test_index)]\n",
    "    y_train, y_test = y[y.index.isin(train_index)], y[y.index.isin(test_index)]\n",
    "    rf_best_par.fit(x_train, y_train)\n",
    "    rf_best_par_pred = rf_best_par.predict(x_test)\n",
    "    kappa = metrics.cohen_kappa_score(y_test, rf_best_par_pred)\n",
    "    kappa3.append(kappa)\n",
    "    f1 = metrics.f1_score(y_test, rf_best_par_pred)\n",
    "    f1_3.append(f1)\n",
    "    rmse = sqrt(metrics.mean_squared_error(y_test, rf_best_par_pred))\n",
    "    rmse3.append(rmse)\n",
    "print('kappa',np.mean(kappa3), 'f1', np.mean(f1_3), 'rmse', np.mean(rmse3))"
   ]
  },
  {
   "cell_type": "markdown",
   "metadata": {},
   "source": [
    "## Find out optimal parameter"
   ]
  },
  {
   "cell_type": "code",
   "execution_count": null,
   "metadata": {},
   "outputs": [],
   "source": [
    "x_train, x_test, y_train, y_test = train_test_split(x,y, test_size = 0.1, random_state = 0)"
   ]
  },
  {
   "cell_type": "code",
   "execution_count": null,
   "metadata": {},
   "outputs": [],
   "source": [
    "# Number of trees in random forest\n",
    "n_estimators = [int(x) for x in np.linspace(start = 200, stop = 2000, num = 10)]\n",
    "# Number of features to consider at every split\n",
    "# max_features = ['auto', 'sqrt','log2']\n",
    "# Maximum number of levels in tree\n",
    "max_depth = [int(x) for x in np.linspace(10, 110, num = 11)]\n",
    "max_depth.append(None)\n",
    "# Minimum number of samples required to split a node\n",
    "min_samples_split = range(2,11)\n",
    "# Minimum number of samples required at each leaf node\n",
    "min_samples_leaf = range(2,11)\n",
    "# Method of selecting samples for training each tree\n",
    "# bootstrap = [True, False]\n",
    "\n",
    "# criterion = ['gini', 'entropy']\n",
    "\n",
    "# Create the random grid\n",
    "random_grid = {'n_estimators': n_estimators,\n",
    "#                'max_features': max_features,\n",
    "               'max_depth': max_depth,\n",
    "               'min_samples_split': min_samples_split,\n",
    "#                'min_samples_leaf': min_samples_leaf\n",
    "#                'bootstrap': bootstrap,\n",
    "#               'criterion': criterion\n",
    "              }\n",
    "\n",
    "rf = RandomForestClassifier()\n",
    "rf_random = RandomizedSearchCV(estimator = rf, param_distributions = random_grid, n_iter = 50, cv = 3, verbose=2, random_state=0, n_jobs = -1)\n",
    "rf_random.fit(x_train, y_train)"
   ]
  },
  {
   "cell_type": "code",
   "execution_count": null,
   "metadata": {},
   "outputs": [],
   "source": [
    "rf_random.best_params_"
   ]
  },
  {
   "cell_type": "code",
   "execution_count": 11,
   "metadata": {},
   "outputs": [
    {
     "name": "stderr",
     "output_type": "stream",
     "text": [
      "/anaconda3/lib/python3.7/site-packages/ipykernel_launcher.py:10: DataConversionWarning: A column-vector y was passed when a 1d array was expected. Please change the shape of y to (n_samples,), for example using ravel().\n",
      "  # Remove the CWD from sys.path while we load stuff.\n",
      "/anaconda3/lib/python3.7/site-packages/ipykernel_launcher.py:10: DataConversionWarning: A column-vector y was passed when a 1d array was expected. Please change the shape of y to (n_samples,), for example using ravel().\n",
      "  # Remove the CWD from sys.path while we load stuff.\n",
      "/anaconda3/lib/python3.7/site-packages/ipykernel_launcher.py:10: DataConversionWarning: A column-vector y was passed when a 1d array was expected. Please change the shape of y to (n_samples,), for example using ravel().\n",
      "  # Remove the CWD from sys.path while we load stuff.\n",
      "/anaconda3/lib/python3.7/site-packages/ipykernel_launcher.py:10: DataConversionWarning: A column-vector y was passed when a 1d array was expected. Please change the shape of y to (n_samples,), for example using ravel().\n",
      "  # Remove the CWD from sys.path while we load stuff.\n",
      "/anaconda3/lib/python3.7/site-packages/ipykernel_launcher.py:10: DataConversionWarning: A column-vector y was passed when a 1d array was expected. Please change the shape of y to (n_samples,), for example using ravel().\n",
      "  # Remove the CWD from sys.path while we load stuff.\n"
     ]
    },
    {
     "name": "stdout",
     "output_type": "stream",
     "text": [
      "kappa 0.7020388234209302 f1 0.8064918108976922 rmse 0.36888515892656853\n"
     ]
    }
   ],
   "source": [
    "rf_best_par_ = RandomForestClassifier(n_estimators = 1800, min_samples_split = 2, max_depth = 140)\n",
    "kappa4 = []\n",
    "rmse4 = []\n",
    "f1_4 = []\n",
    "\n",
    "kf = StratifiedKFold(n_splits=5, random_state=0, shuffle=True)\n",
    "for train_index, test_index in kf.split(x,y):\n",
    "    x_train, x_test = x[x.index.isin(train_index)], x[x.index.isin(test_index)]\n",
    "    y_train, y_test = y[y.index.isin(train_index)], y[y.index.isin(test_index)]\n",
    "    rf_best_par_.fit(x_train, y_train)\n",
    "    rf_best_par_pred1 = rf_best_par_.predict(x_test)\n",
    "    kappa = metrics.cohen_kappa_score(y_test, rf_best_par_pred1)\n",
    "    kappa4.append(kappa)\n",
    "    f1 = metrics.f1_score(y_test, rf_best_par_pred1)\n",
    "    f1_4.append(f1)\n",
    "    rmse = sqrt(metrics.mean_squared_error(y_test, rf_best_par_pred1))\n",
    "    rmse4.append(rmse)\n",
    "print('kappa',np.mean(kappa4), 'f1', np.mean(f1_4), 'rmse', np.mean(rmse4))"
   ]
  },
  {
   "cell_type": "code",
   "execution_count": null,
   "metadata": {},
   "outputs": [],
   "source": [
    "rfc = RandomForestClassifier(random_state=0)\n",
    "CV_rfc = GridSearchCV(estimator=rfc, param_grid=random_grid, cv= 3, scoring = 'f1')\n",
    "CV_rfc.fit(x_train, y_train)"
   ]
  },
  {
   "cell_type": "code",
   "execution_count": null,
   "metadata": {},
   "outputs": [],
   "source": [
    "CV_rfc.best_params_"
   ]
  },
  {
   "cell_type": "markdown",
   "metadata": {},
   "source": [
    "## Neutral Network"
   ]
  },
  {
   "cell_type": "code",
   "execution_count": 12,
   "metadata": {},
   "outputs": [
    {
     "name": "stderr",
     "output_type": "stream",
     "text": [
      "/anaconda3/lib/python3.7/site-packages/sklearn/neural_network/_multilayer_perceptron.py:934: DataConversionWarning: A column-vector y was passed when a 1d array was expected. Please change the shape of y to (n_samples, ), for example using ravel().\n",
      "  y = column_or_1d(y, warn=True)\n",
      "/anaconda3/lib/python3.7/site-packages/sklearn/neural_network/_multilayer_perceptron.py:571: ConvergenceWarning: Stochastic Optimizer: Maximum iterations (200) reached and the optimization hasn't converged yet.\n",
      "  % self.max_iter, ConvergenceWarning)\n",
      "/anaconda3/lib/python3.7/site-packages/sklearn/neural_network/_multilayer_perceptron.py:934: DataConversionWarning: A column-vector y was passed when a 1d array was expected. Please change the shape of y to (n_samples, ), for example using ravel().\n",
      "  y = column_or_1d(y, warn=True)\n",
      "/anaconda3/lib/python3.7/site-packages/sklearn/neural_network/_multilayer_perceptron.py:571: ConvergenceWarning: Stochastic Optimizer: Maximum iterations (200) reached and the optimization hasn't converged yet.\n",
      "  % self.max_iter, ConvergenceWarning)\n",
      "/anaconda3/lib/python3.7/site-packages/sklearn/neural_network/_multilayer_perceptron.py:934: DataConversionWarning: A column-vector y was passed when a 1d array was expected. Please change the shape of y to (n_samples, ), for example using ravel().\n",
      "  y = column_or_1d(y, warn=True)\n",
      "/anaconda3/lib/python3.7/site-packages/sklearn/neural_network/_multilayer_perceptron.py:571: ConvergenceWarning: Stochastic Optimizer: Maximum iterations (200) reached and the optimization hasn't converged yet.\n",
      "  % self.max_iter, ConvergenceWarning)\n",
      "/anaconda3/lib/python3.7/site-packages/sklearn/neural_network/_multilayer_perceptron.py:934: DataConversionWarning: A column-vector y was passed when a 1d array was expected. Please change the shape of y to (n_samples, ), for example using ravel().\n",
      "  y = column_or_1d(y, warn=True)\n",
      "/anaconda3/lib/python3.7/site-packages/sklearn/neural_network/_multilayer_perceptron.py:571: ConvergenceWarning: Stochastic Optimizer: Maximum iterations (200) reached and the optimization hasn't converged yet.\n",
      "  % self.max_iter, ConvergenceWarning)\n",
      "/anaconda3/lib/python3.7/site-packages/sklearn/neural_network/_multilayer_perceptron.py:934: DataConversionWarning: A column-vector y was passed when a 1d array was expected. Please change the shape of y to (n_samples, ), for example using ravel().\n",
      "  y = column_or_1d(y, warn=True)\n"
     ]
    },
    {
     "name": "stdout",
     "output_type": "stream",
     "text": [
      "kappa 0.6275599114490851 f1 0.7565952581909198 rmse 0.411572123227635\n"
     ]
    },
    {
     "name": "stderr",
     "output_type": "stream",
     "text": [
      "/anaconda3/lib/python3.7/site-packages/sklearn/neural_network/_multilayer_perceptron.py:571: ConvergenceWarning: Stochastic Optimizer: Maximum iterations (200) reached and the optimization hasn't converged yet.\n",
      "  % self.max_iter, ConvergenceWarning)\n"
     ]
    }
   ],
   "source": [
    "kappa5 = []\n",
    "rmse5 = []\n",
    "f1_5 = []\n",
    "\n",
    "kf = StratifiedKFold(n_splits=5, random_state=0, shuffle=True)\n",
    "for train_index, test_index in kf.split(x,y):\n",
    "    x_train, x_test = x[x.index.isin(train_index)], x[x.index.isin(test_index)]\n",
    "    y_train, y_test = y[y.index.isin(train_index)], y[y.index.isin(test_index)]\n",
    "    nn = MLPClassifier(random_state = 0)\n",
    "    nn.fit(x_train, y_train)\n",
    "    nn_pred = nn.predict(x_test)\n",
    "    kappa = metrics.cohen_kappa_score(y_test, nn_pred)\n",
    "    kappa5.append(kappa)\n",
    "    f1 = metrics.f1_score(y_test, nn_pred)\n",
    "    f1_5.append(f1)\n",
    "    rmse = sqrt(metrics.mean_squared_error(y_test, nn_pred))\n",
    "    rmse5.append(rmse)\n",
    "print('kappa',np.mean(kappa5), 'f1', np.mean(f1_5), 'rmse', np.mean(rmse5))"
   ]
  },
  {
   "cell_type": "code",
   "execution_count": null,
   "metadata": {},
   "outputs": [],
   "source": []
  }
 ],
 "metadata": {
  "kernelspec": {
   "display_name": "Python 3",
   "language": "python",
   "name": "python3"
  },
  "language_info": {
   "codemirror_mode": {
    "name": "ipython",
    "version": 3
   },
   "file_extension": ".py",
   "mimetype": "text/x-python",
   "name": "python",
   "nbconvert_exporter": "python",
   "pygments_lexer": "ipython3",
   "version": "3.7.1"
  }
 },
 "nbformat": 4,
 "nbformat_minor": 4
}
